{
 "cells": [
  {
   "cell_type": "markdown",
   "metadata": {},
   "source": [
    "# Assignment 3 - Text Analysis\n",
    "An explanation this assignment could be found in the .pdf explanation document"
   ]
  },
  {
   "cell_type": "markdown",
   "metadata": {},
   "source": [
    "\n",
    "## Materials to review for this assignment\n",
    "<h4>From Moodle:</h4> \n",
    "<h5><u>Review the notebooks regarding the following python topics</u>:</h5>\n",
    "<div class=\"alert alert-info\">\n",
    "&#x2714; <b>Working with strings</b> (tutorial notebook)<br/>\n",
    "&#x2714; <b>Text Analysis</b> (tutorial notebook)<br/>\n",
    "&#x2714; <b>Hebrew text analysis tools (tokenizer, wordnet)</b> (moodle example)<br/>\n",
    "&#x2714; <b>(brief review) All previous notebooks</b><br/>\n",
    "</div> \n",
    "<h5><u>Review the presentations regarding the following topics</u>:</h5>\n",
    "<div class=\"alert alert-info\">\n",
    "&#x2714; <b>Text Analysis</b> (lecture presentation)<br/>\n",
    "&#x2714; <b>(brief review) All other presentations</b><br/>\n",
    "</div>"
   ]
  },
  {
   "cell_type": "markdown",
   "metadata": {},
   "source": [
    "## Personal Details:"
   ]
  },
  {
   "cell_type": "code",
   "execution_count": 1,
   "metadata": {},
   "outputs": [
    {
     "data": {
      "text/plain": [
       "' Mor Moshe\\n    208658880\\n    mormsh100@gmail.com '"
      ]
     },
     "execution_count": 1,
     "metadata": {},
     "output_type": "execute_result"
    }
   ],
   "source": [
    "# Details Student 1:\n",
    "\"\"\" Omer Sapir\n",
    "    206992505\n",
    "    omersap@my.hit.ac.il \"\"\"\n",
    "# Details Student 2:\n",
    "\"\"\" Mor Moshe\n",
    "    208658880\n",
    "    mormsh100@gmail.com \"\"\"\n"
   ]
  },
  {
   "cell_type": "markdown",
   "metadata": {},
   "source": [
    "## Preceding Step - import modules (packages)\n",
    "This step is necessary in order to use external modules (packages). <br/>"
   ]
  },
  {
   "cell_type": "code",
   "execution_count": 2,
   "metadata": {},
   "outputs": [],
   "source": [
    "# --------------------------------------\n",
    "import pandas as pd\n",
    "import numpy as np\n",
    "# --------------------------------------\n",
    "\n",
    "\n",
    "# --------------------------------------\n",
    "# ------------- visualizations:\n",
    "import seaborn as sns\n",
    "import matplotlib.pyplot as plt\n",
    "from matplotlib.colors import ListedColormap\n",
    "# --------------------------------------\n",
    "\n",
    "\n",
    "# ---------------------------------------\n",
    "import sklearn\n",
    "from sklearn import preprocessing, metrics, pipeline, model_selection, feature_extraction \n",
    "from sklearn import naive_bayes, linear_model, svm, neural_network, neighbors, tree\n",
    "from sklearn import decomposition, cluster\n",
    "\n",
    "from sklearn.model_selection import train_test_split, cross_val_score, GridSearchCV \n",
    "from sklearn.pipeline import Pipeline\n",
    "from sklearn.metrics import accuracy_score, confusion_matrix\n",
    "from sklearn.metrics import precision_score, recall_score, f1_score\n",
    "from sklearn.metrics import mean_squared_error, r2_score, silhouette_score\n",
    "from sklearn.preprocessing import MinMaxScaler, StandardScaler, LabelEncoder\n",
    "\n",
    "from sklearn.svm import LinearSVC\n",
    "from sklearn.neural_network import MLPClassifier\n",
    "from sklearn.linear_model import Perceptron, SGDClassifier\n",
    "from sklearn.decomposition import PCA\n",
    "from sklearn.cluster import KMeans\n",
    "from sklearn.naive_bayes import MultinomialNB, GaussianNB\n",
    "from sklearn.neighbors import KNeighborsClassifier\n",
    "from sklearn.tree import DecisionTreeClassifier\n",
    "# ---------------------------------------\n",
    "\n",
    "\n",
    "# ----------------- output and visualizations: \n",
    "import warnings\n",
    "from sklearn.exceptions import ConvergenceWarning\n",
    "warnings.simplefilter(\"ignore\")\n",
    "warnings.simplefilter(action='ignore', category=FutureWarning)\n",
    "warnings.simplefilter(\"ignore\", category=ConvergenceWarning)\n",
    "# show several prints in one cell. This will allow us to condence every trick in one cell.\n",
    "from IPython.core.interactiveshell import InteractiveShell\n",
    "InteractiveShell.ast_node_interactivity = \"all\"\n",
    "%matplotlib inline\n",
    "pd.pandas.set_option('display.max_columns', None)\n",
    "pd.set_option('display.float_format', lambda x: '%.3f' % x)\n",
    "# ---------------------------------------"
   ]
  },
  {
   "cell_type": "markdown",
   "metadata": {},
   "source": [
    "### Text analysis and String manipulation imports:"
   ]
  },
  {
   "cell_type": "code",
   "execution_count": 3,
   "metadata": {},
   "outputs": [],
   "source": [
    "# --------------------------------------\n",
    "# --------- Text analysis and Hebrew text analysis imports:\n",
    "# vectorizers:\n",
    "from sklearn.feature_extraction import text\n",
    "from sklearn.feature_extraction.text import CountVectorizer, TfidfVectorizer\n",
    "\n",
    "# regular expressions:\n",
    "import re\n",
    "# --------------------------------------"
   ]
  },
  {
   "cell_type": "markdown",
   "metadata": {},
   "source": [
    "### (optional) Hebrew text analysis - WordNet (for Hebrew)\n",
    "Note: the WordNet is not a must"
   ]
  },
  {
   "cell_type": "markdown",
   "metadata": {},
   "source": [
    "#### (optional) Only if you didn't install Wordnet (for Hebrew) use:"
   ]
  },
  {
   "cell_type": "code",
   "execution_count": 3,
   "metadata": {},
   "outputs": [
    {
     "name": "stdout",
     "output_type": "stream",
     "text": [
      "Collecting wn\n",
      "  Downloading wn-0.9.4-py3-none-any.whl (75 kB)\n",
      "     -------------------------------------- 75.7/75.7 kB 523.4 kB/s eta 0:00:00\n",
      "Requirement already satisfied: requests in c:\\users\\mor\\anaconda3\\lib\\site-packages (from wn) (2.28.1)\n",
      "Requirement already satisfied: tomli in c:\\users\\mor\\anaconda3\\lib\\site-packages (from wn) (2.0.1)\n",
      "Requirement already satisfied: certifi>=2017.4.17 in c:\\users\\mor\\anaconda3\\lib\\site-packages (from requests->wn) (2022.9.14)\n",
      "Requirement already satisfied: charset-normalizer<3,>=2 in c:\\users\\mor\\anaconda3\\lib\\site-packages (from requests->wn) (2.0.4)\n",
      "Requirement already satisfied: idna<4,>=2.5 in c:\\users\\mor\\anaconda3\\lib\\site-packages (from requests->wn) (2.10)\n",
      "Requirement already satisfied: urllib3<1.27,>=1.21.1 in c:\\users\\mor\\anaconda3\\lib\\site-packages (from requests->wn) (1.26.11)\n",
      "Installing collected packages: wn\n",
      "Successfully installed wn-0.9.4\n"
     ]
    },
    {
     "name": "stderr",
     "output_type": "stream",
     "text": [
      "\n",
      "\u001b[K\n",
      "Download (0 bytes) Requesting\n",
      "\u001b[K\n",
      "Download [                              ] (0/315276 bytes) Receiving\n",
      "\u001b[K\n",
      "Download [=                             ] (8192/315276 bytes) Receiving\n",
      "\u001b[K\n",
      "Download [#-                            ] (16384/315276 bytes) Receiving\n",
      "\u001b[K\n",
      "Download [##-                           ] (24576/315276 bytes) Receiving\n",
      "\u001b[K\n",
      "Download [###                           ] (32768/315276 bytes) Receiving\n",
      "\u001b[K\n",
      "Download [###=                          ] (40960/315276 bytes) Receiving\n",
      "\u001b[K\n",
      "Download [####=                         ] (49152/315276 bytes) Receiving\n",
      "\u001b[K\n",
      "Download [#####-                        ] (57344/315276 bytes) Receiving\n",
      "\u001b[K\n",
      "Download [######                        ] (65536/315276 bytes) Receiving\n",
      "\u001b[K\n",
      "Download [#######                       ] (73728/315276 bytes) Receiving\n",
      "\u001b[K\n",
      "Download [#######=                      ] (81920/315276 bytes) Receiving\n",
      "\u001b[K\n",
      "Download [########-                     ] (90112/315276 bytes) Receiving\n",
      "\u001b[K\n",
      "Download [#########-                    ] (98304/315276 bytes) Receiving\n",
      "\u001b[K\n",
      "Download [##########                    ] (106496/315276 bytes) Receiving\n",
      "\u001b[K\n",
      "Download [##########=                   ] (114688/315276 bytes) Receiving\n",
      "\u001b[K\n",
      "Download [###########=                  ] (122880/315276 bytes) Receiving\n",
      "\u001b[K\n",
      "Download [############-                 ] (131072/315276 bytes) Receiving\n",
      "\u001b[K\n",
      "Download [#############                 ] (139264/315276 bytes) Receiving\n",
      "\u001b[K\n",
      "Download [##############                ] (147456/315276 bytes) Receiving\n",
      "\u001b[K\n",
      "Download [##############=               ] (155648/315276 bytes) Receiving\n",
      "\u001b[K\n",
      "Download [###############-              ] (163840/315276 bytes) Receiving\n",
      "\u001b[K\n",
      "Download [################-             ] (172032/315276 bytes) Receiving\n",
      "\u001b[K\n",
      "Download [#################             ] (180224/315276 bytes) Receiving\n",
      "\u001b[K\n",
      "Download [#################=            ] (188416/315276 bytes) Receiving\n",
      "\u001b[K\n",
      "Download [##################=           ] (196608/315276 bytes) Receiving\n",
      "\u001b[K\n",
      "Download [###################-          ] (204800/315276 bytes) Receiving\n",
      "\u001b[K\n",
      "Download [####################          ] (212992/315276 bytes) Receiving\n",
      "\u001b[K\n",
      "Download [#####################         ] (221184/315276 bytes) Receiving\n",
      "\u001b[K\n",
      "Download [#####################=        ] (229376/315276 bytes) Receiving\n",
      "\u001b[K\n",
      "Download [######################-       ] (237568/315276 bytes) Receiving\n",
      "\u001b[K\n",
      "Download [#######################-      ] (245760/315276 bytes) Receiving\n",
      "\u001b[K\n",
      "Download [########################      ] (253952/315276 bytes) Receiving\n",
      "\u001b[K\n",
      "Download [########################=     ] (262144/315276 bytes) Receiving\n",
      "\u001b[K\n",
      "Download [#########################=    ] (270336/315276 bytes) Receiving\n",
      "\u001b[K\n",
      "Download [##########################-   ] (278528/315276 bytes) Receiving\n",
      "\u001b[K\n",
      "Download [###########################   ] (286720/315276 bytes) Receiving\n",
      "\u001b[K\n",
      "Download [############################  ] (294912/315276 bytes) Receiving\n",
      "\u001b[K\n",
      "Download [############################= ] (303104/315276 bytes) Receiving\n",
      "\u001b[K\n",
      "Download [#############################-] (311296/315276 bytes) Receiving\n",
      "\u001b[K\n",
      "Download [##############################] (315276/315276 bytes) Receiving\n",
      "\u001b[K\n",
      "Download [##############################] (315276/315276 bytes) Complete\n",
      "\n",
      "\u001b[KChecking C:\\Users\\Mor\\AppData\\Local\\Temp\\tmprc_mrob7\\omw-he\\omw-he.xml\n",
      "\u001b[KReading C:\\Users\\Mor\\AppData\\Local\\Temp\\tmprc_mrob7\\omw-he\\omw-he.xml\n",
      "\u001b[K\n",
      "Read [##########                    ] (10000/29690) \n",
      "\u001b[K\n",
      "Read [####################          ] (20000/29690) \n",
      "\u001b[K\n",
      "Read [##############################] (29690/29690) \n",
      "\n",
      "\u001b[KUpdating lookup tables\n",
      "\u001b[K\n",
      "Database [                              ] (0/29687) \n",
      "\u001b[K\n",
      "Database [                              ] (0/29687) Lexicon Info\n",
      "\u001b[K\n",
      "Database [                              ] (0/29687) Synsets\n",
      "\u001b[K\n",
      "Database [#                             ] (1000/29687) Synsets\n",
      "\u001b[K\n",
      "Database [##                            ] (2000/29687) Synsets\n",
      "\u001b[K\n",
      "Database [###                           ] (3000/29687) Synsets\n",
      "\u001b[K\n",
      "Database [####                          ] (4000/29687) Synsets\n",
      "\u001b[K\n",
      "Database [#####                         ] (5000/29687) Synsets\n",
      "\u001b[K\n",
      "Database [#####-                        ] (5448/29687) Synsets\n",
      "\u001b[K\n",
      "Database [#####-                        ] (5448/29687) Words\n",
      "\u001b[K\n",
      "Database [######-                       ] (6448/29687) Words\n",
      "\u001b[K\n",
      "Database [#######-                      ] (7448/29687) Words\n",
      "\u001b[K\n",
      "Database [########-                     ] (8448/29687) Words\n",
      "\u001b[K\n",
      "Database [#########-                    ] (9448/29687) Words\n",
      "\u001b[K\n",
      "Database [##########-                   ] (10448/29687) Words\n",
      "\u001b[K\n",
      "Database [##########=                   ] (10827/29687) Words\n",
      "\u001b[K\n",
      "Database [##########=                   ] (10827/29687) Word Forms\n",
      "\u001b[K\n",
      "Database [###########=                  ] (11827/29687) Word Forms\n",
      "\u001b[K\n",
      "Database [############=                 ] (12827/29687) Word Forms\n",
      "\u001b[K\n",
      "Database [#############=                ] (13827/29687) Word Forms\n",
      "\u001b[K\n",
      "Database [##############=               ] (14827/29687) Word Forms\n",
      "\u001b[K\n",
      "Database [###############=              ] (15827/29687) Word Forms\n",
      "\u001b[K\n",
      "Database [################-             ] (16206/29687) Word Forms\n",
      "\u001b[K\n",
      "Database [################-             ] (16206/29687) Pronunciations\n",
      "\u001b[K\n",
      "Database [################-             ] (16206/29687) Pronunciations\n",
      "\u001b[K\n",
      "Database [################-             ] (16206/29687) Pronunciations\n",
      "\u001b[K\n",
      "Database [################-             ] (16206/29687) Pronunciations\n",
      "\u001b[K\n",
      "Database [################-             ] (16206/29687) Pronunciations\n",
      "\u001b[K\n",
      "Database [################-             ] (16206/29687) Pronunciations\n",
      "\u001b[K\n",
      "Database [################-             ] (16206/29687) Pronunciations\n",
      "\u001b[K\n",
      "Database [################-             ] (16206/29687) Word Form Tags\n",
      "\u001b[K\n",
      "Database [################-             ] (16206/29687) Word Form Tags\n",
      "\u001b[K\n",
      "Database [################-             ] (16206/29687) Word Form Tags\n",
      "\u001b[K\n",
      "Database [################-             ] (16206/29687) Word Form Tags\n",
      "\u001b[K\n",
      "Database [################-             ] (16206/29687) Word Form Tags\n",
      "\u001b[K\n",
      "Database [################-             ] (16206/29687) Word Form Tags\n",
      "\u001b[K\n",
      "Database [################-             ] (16206/29687) Word Form Tags\n",
      "\u001b[K\n",
      "Database [################-             ] (16206/29687) Senses\n",
      "\u001b[K\n",
      "Database [##################            ] (17901/29687) Senses\n",
      "\u001b[K\n",
      "Database [###################-          ] (19154/29687) Senses\n",
      "\u001b[K\n",
      "Database [####################-         ] (20319/29687) Senses\n",
      "\u001b[K\n",
      "Database [#####################=        ] (21531/29687) Senses\n",
      "\u001b[K\n",
      "Database [######################=       ] (22671/29687) Senses\n",
      "\u001b[K\n",
      "Database [#######################       ] (23078/29687) Senses\n",
      "\u001b[K\n",
      "Database [#######################       ] (23078/29687) Sense Adjpositions\n",
      "\u001b[K\n",
      "Database [#######################       ] (23078/29687) Counts\n",
      "\u001b[K\n",
      "Database [#######################       ] (23078/29687) Counts\n",
      "\u001b[K\n",
      "Database [#######################       ] (23078/29687) Syntactic Behaviours\n",
      "\u001b[K\n",
      "Database [#######################       ] (23078/29687) Syntactic Behaviours\n",
      "\u001b[K\n",
      "Database [#######################       ] (23078/29687) Synset Relations\n",
      "\u001b[K\n",
      "Database [#######################       ] (23078/29687) Synset Relations\n",
      "\u001b[K\n",
      "Database [#######################       ] (23078/29687) Synset Relations\n",
      "\u001b[K\n",
      "Database [#######################       ] (23078/29687) Synset Relations\n",
      "\u001b[K\n",
      "Database [#######################       ] (23078/29687) Synset Relations\n",
      "\u001b[K\n",
      "Database [#######################       ] (23078/29687) Synset Relations\n",
      "\u001b[K\n",
      "Database [#######################       ] (23078/29687) Synset Relations\n",
      "\u001b[K\n",
      "Database [#######################       ] (23078/29687) Sense Relations\n",
      "\u001b[K\n",
      "Database [#######################       ] (23078/29687) Definitions\n",
      "\u001b[K\n",
      "Database [########################=     ] (24503/29687) Definitions\n",
      "\u001b[K\n",
      "Database [##########################    ] (25778/29687) Definitions\n",
      "\u001b[K\n",
      "Database [###########################   ] (27015/29687) Definitions\n",
      "\u001b[K\n",
      "Database [############################- ] (28283/29687) Definitions\n",
      "\u001b[K\n",
      "Database [#############################-] (29140/29687) Definitions\n",
      "\u001b[K\n",
      "Database [##############################] (29687/29687) Definitions\n",
      "\u001b[K\n",
      "Database [##############################] (29687/29687) Examples\n",
      "\u001b[K\n",
      "Database [##############################] (29687/29687) Examples\n",
      "\u001b[K\n",
      "Database [##############################] (29687/29687) Examples\n",
      "\u001b[K\n",
      "Database [##############################] (29687/29687) Examples\n",
      "\u001b[K\n",
      "Database [##############################] (29687/29687) Examples\n",
      "\u001b[K\n",
      "Database [##############################] (29687/29687) Examples\n",
      "\u001b[K\n",
      "Database [##############################] (29687/29687) Examples\n",
      "\u001b[K\n",
      "Database [##############################] (29687/29687) Examples\n",
      "\u001b[K\n",
      "Database [##############################] (29687/29687) Examples\n",
      "\u001b[K\n",
      "Database [##############################] (29687/29687) Examples\n",
      "\u001b[K\n",
      "Database [##############################] (29687/29687) Examples\n",
      "\u001b[K\n",
      "Database [##############################] (29687/29687) Examples\n",
      "\u001b[K\n",
      "Database [##############################] (29687/29687) Examples\n",
      "\u001b[K\n",
      "Database [##############################] (29687/29687) Examples\n",
      "\u001b[K\n",
      "Database [##############################] (29687/29687) Examples\n",
      "\u001b[K\n",
      "Database [##############################] (29687/29687) \n",
      "\u001b[KAdded omw-he:1.4 (Hebrew Wordnet)\n",
      "\n"
     ]
    }
   ],
   "source": [
    "# word net installation:\n",
    "\n",
    "# unmark if you want to use and need to install\n",
    "# !pip install wn\n",
    "# !python -m wn download omw-he:1.4"
   ]
  },
  {
   "cell_type": "code",
   "execution_count": 4,
   "metadata": {},
   "outputs": [],
   "source": [
    "# word net import:\n",
    "\n",
    "# unmark if you want to use:\n",
    "import wn"
   ]
  },
  {
   "cell_type": "markdown",
   "metadata": {},
   "source": [
    "### (optional) Hebrew text analysis - hebrew_tokenizer (Tokenizer for Hebrew)\n",
    "Note: the hebrew_tokenizer is not a must"
   ]
  },
  {
   "cell_type": "markdown",
   "metadata": {},
   "source": [
    "#### (optional) Only if you didn't install hebrew_tokenizer use:"
   ]
  },
  {
   "cell_type": "code",
   "execution_count": 5,
   "metadata": {},
   "outputs": [
    {
     "name": "stdout",
     "output_type": "stream",
     "text": [
      "Collecting hebrew_tokenizer\n",
      "  Downloading hebrew_tokenizer-2.3.0.tar.gz (13 kB)\n",
      "  Preparing metadata (setup.py): started\n",
      "  Preparing metadata (setup.py): finished with status 'done'\n",
      "Building wheels for collected packages: hebrew_tokenizer\n",
      "  Building wheel for hebrew_tokenizer (setup.py): started\n",
      "  Building wheel for hebrew_tokenizer (setup.py): finished with status 'done'\n",
      "  Created wheel for hebrew_tokenizer: filename=hebrew_tokenizer-2.3.0-py3-none-any.whl size=13418 sha256=494fdd1cc9524a068ed92161a670a935d54d315b1aad57032e5126bef3a0eae6\n",
      "  Stored in directory: c:\\users\\mor\\appdata\\local\\pip\\cache\\wheels\\a7\\2f\\af\\95d5eb2e7c291753542d4419e200429a22fb2d74e3f27d7711\n",
      "Successfully built hebrew_tokenizer\n",
      "Installing collected packages: hebrew_tokenizer\n",
      "Successfully installed hebrew_tokenizer-2.3.0\n"
     ]
    }
   ],
   "source": [
    "# Hebrew tokenizer installation:\n",
    "\n",
    "# unmark if you want to use and need to install:\n",
    "# !pip install hebrew_tokenizer"
   ]
  },
  {
   "cell_type": "code",
   "execution_count": 5,
   "metadata": {},
   "outputs": [
    {
     "name": "stdout",
     "output_type": "stream",
     "text": [
      "C:\\Users\\Mor\\Assignment3-text_analysis\n"
     ]
    }
   ],
   "source": [
    "# Hebrew tokenizer import:\n",
    "\n",
    "# unmark if you want to use:\n",
    "import hebrew_tokenizer as ht"
   ]
  },
  {
   "cell_type": "markdown",
   "metadata": {},
   "source": [
    "### Reading input files\n",
    "Reading input files for train annotated corpus (raw text data) corpus and for the test corpus"
   ]
  },
  {
   "cell_type": "code",
   "execution_count": 6,
   "metadata": {},
   "outputs": [],
   "source": [
    "train_filename = 'annotated_corpus_for_train.csv'\n",
    "test_filename  = 'corpus_for_test.csv'\n",
    "df_train = pd.read_csv(train_filename, index_col=None, encoding='utf-8')\n",
    "df_test  = pd.read_csv(test_filename, index_col=None, encoding='utf-8')"
   ]
  },
  {
   "cell_type": "code",
   "execution_count": 7,
   "metadata": {},
   "outputs": [
    {
     "data": {
      "text/html": [
       "<div>\n",
       "<style scoped>\n",
       "    .dataframe tbody tr th:only-of-type {\n",
       "        vertical-align: middle;\n",
       "    }\n",
       "\n",
       "    .dataframe tbody tr th {\n",
       "        vertical-align: top;\n",
       "    }\n",
       "\n",
       "    .dataframe thead th {\n",
       "        text-align: right;\n",
       "    }\n",
       "</style>\n",
       "<table border=\"1\" class=\"dataframe\">\n",
       "  <thead>\n",
       "    <tr style=\"text-align: right;\">\n",
       "      <th></th>\n",
       "      <th>story</th>\n",
       "      <th>gender</th>\n",
       "    </tr>\n",
       "  </thead>\n",
       "  <tbody>\n",
       "    <tr>\n",
       "      <th>0</th>\n",
       "      <td>כשחבר הזמין אותי לחול, לא באמת חשבתי שזה יקרה,...</td>\n",
       "      <td>m</td>\n",
       "    </tr>\n",
       "    <tr>\n",
       "      <th>1</th>\n",
       "      <td>לפני שהתגייסתי לצבא עשיתי כל מני מיונים ליחידו...</td>\n",
       "      <td>m</td>\n",
       "    </tr>\n",
       "    <tr>\n",
       "      <th>2</th>\n",
       "      <td>מאז שהתחילו הלימודים חלומו של כל סטודנט זה הפנ...</td>\n",
       "      <td>f</td>\n",
       "    </tr>\n",
       "    <tr>\n",
       "      <th>3</th>\n",
       "      <td>כשהייתי ילד, מטוסים היה הדבר שהכי ריתק אותי. ב...</td>\n",
       "      <td>m</td>\n",
       "    </tr>\n",
       "    <tr>\n",
       "      <th>4</th>\n",
       "      <td>‏הייתי מדריכה בכפר נוער ומתאם הכפר היינו צריכי...</td>\n",
       "      <td>f</td>\n",
       "    </tr>\n",
       "    <tr>\n",
       "      <th>5</th>\n",
       "      <td>לפני כ3 חודשים טסתי לרומא למשך שבוע. טסתי במטו...</td>\n",
       "      <td>f</td>\n",
       "    </tr>\n",
       "    <tr>\n",
       "      <th>6</th>\n",
       "      <td>אני כבר שנתיים נשוי והשנה אני ואישתי סוף סוף י...</td>\n",
       "      <td>m</td>\n",
       "    </tr>\n",
       "    <tr>\n",
       "      <th>7</th>\n",
       "      <td>השנה התחלנו שיפוץ בדירה שלנו בתל אביב. הדירה ה...</td>\n",
       "      <td>f</td>\n",
       "    </tr>\n",
       "  </tbody>\n",
       "</table>\n",
       "</div>"
      ],
      "text/plain": [
       "                                               story gender\n",
       "0  כשחבר הזמין אותי לחול, לא באמת חשבתי שזה יקרה,...      m\n",
       "1  לפני שהתגייסתי לצבא עשיתי כל מני מיונים ליחידו...      m\n",
       "2  מאז שהתחילו הלימודים חלומו של כל סטודנט זה הפנ...      f\n",
       "3  כשהייתי ילד, מטוסים היה הדבר שהכי ריתק אותי. ב...      m\n",
       "4  ‏הייתי מדריכה בכפר נוער ומתאם הכפר היינו צריכי...      f\n",
       "5  לפני כ3 חודשים טסתי לרומא למשך שבוע. טסתי במטו...      f\n",
       "6  אני כבר שנתיים נשוי והשנה אני ואישתי סוף סוף י...      m\n",
       "7  השנה התחלנו שיפוץ בדירה שלנו בתל אביב. הדירה ה...      f"
      ]
     },
     "execution_count": 7,
     "metadata": {},
     "output_type": "execute_result"
    },
    {
     "data": {
      "text/plain": [
       "(753, 2)"
      ]
     },
     "execution_count": 7,
     "metadata": {},
     "output_type": "execute_result"
    }
   ],
   "source": [
    "df_train.head(8)\n",
    "df_train.shape"
   ]
  },
  {
   "cell_type": "code",
   "execution_count": 8,
   "metadata": {},
   "outputs": [
    {
     "data": {
      "text/html": [
       "<div>\n",
       "<style scoped>\n",
       "    .dataframe tbody tr th:only-of-type {\n",
       "        vertical-align: middle;\n",
       "    }\n",
       "\n",
       "    .dataframe tbody tr th {\n",
       "        vertical-align: top;\n",
       "    }\n",
       "\n",
       "    .dataframe thead th {\n",
       "        text-align: right;\n",
       "    }\n",
       "</style>\n",
       "<table border=\"1\" class=\"dataframe\">\n",
       "  <thead>\n",
       "    <tr style=\"text-align: right;\">\n",
       "      <th></th>\n",
       "      <th>test_example_id</th>\n",
       "      <th>story</th>\n",
       "    </tr>\n",
       "  </thead>\n",
       "  <tbody>\n",
       "    <tr>\n",
       "      <th>0</th>\n",
       "      <td>0</td>\n",
       "      <td>כל קיץ אני והמשפחה נוסעים לארצות הברית לוס אנג...</td>\n",
       "    </tr>\n",
       "    <tr>\n",
       "      <th>1</th>\n",
       "      <td>1</td>\n",
       "      <td>הגעתי לשירות המדינה אחרי שנתיים כפעיל בתנועת \"...</td>\n",
       "    </tr>\n",
       "    <tr>\n",
       "      <th>2</th>\n",
       "      <td>2</td>\n",
       "      <td>אחת האהבות הגדולות שלי אלו הכלבים שלי ושל אישת...</td>\n",
       "    </tr>\n",
       "  </tbody>\n",
       "</table>\n",
       "</div>"
      ],
      "text/plain": [
       "   test_example_id                                              story\n",
       "0                0  כל קיץ אני והמשפחה נוסעים לארצות הברית לוס אנג...\n",
       "1                1  הגעתי לשירות המדינה אחרי שנתיים כפעיל בתנועת \"...\n",
       "2                2  אחת האהבות הגדולות שלי אלו הכלבים שלי ושל אישת..."
      ]
     },
     "execution_count": 8,
     "metadata": {},
     "output_type": "execute_result"
    },
    {
     "data": {
      "text/plain": [
       "(323, 2)"
      ]
     },
     "execution_count": 8,
     "metadata": {},
     "output_type": "execute_result"
    }
   ],
   "source": [
    "df_test.head(3)\n",
    "df_test.shape"
   ]
  },
  {
   "cell_type": "markdown",
   "metadata": {},
   "source": [
    "### Your implementation:\n",
    "Write your code solution in the following code-cells"
   ]
  },
  {
   "cell_type": "markdown",
   "metadata": {},
   "source": [
    "### Code Explanation\n",
    "<strong>Punctuation Removal:</strong> A regular expression pattern punctuation_chars is defined to match various punctuation characters. The function remove_punctuation uses this pattern to remove punctuation from the text.\n",
    "\n",
    "<strong>Digit Removal:</strong> The function remove_digits removes all digits from the text using the isdigit() method.\n",
    "\n",
    "<strong>Hebrew Letter Removal:</strong> Another regular expression pattern pattern is defined to match individual Hebrew letters. The function remove_one_letters uses this pattern to remove Hebrew letters that consist of a single character.\n",
    "\n",
    "<strong>Data Cleaning:</strong> The text in the 'story' column of df_train is cleaned by sequentially applying the remove_punctuation, remove_digits, and remove_one_letter functions.\n",
    "\n",
    "<strong>Feature Extraction:</strong> The CountVectorizer class is utilized to convert the cleaned text into a matrix of token counts. It generates unigram and bigram features with a maximum vocabulary size of 10,000 and a maximum document frequency of 0.07.\n",
    "\n",
    "The result of this preprocessing and feature extraction is stored in the variable X_vec, which holds the matrix representation of the cleaned and tokenized stories. This matrix can be used as input for various machine learning algorithms."
   ]
  },
  {
   "cell_type": "code",
   "execution_count": 9,
   "metadata": {},
   "outputs": [],
   "source": [
    "punctuation_chars = r'[!\"#$%&\\'()*+,-./:;<=>?@[\\\\]^_`{|}~]'\n",
    "pattern = r'\\b[א-ת]\\b'\n",
    "\n",
    "def remove_punctuation(text):\n",
    "    text_no_punct = ''.join(char for char in text if char not in punctuation_chars)\n",
    "    return text_no_punct\n",
    "\n",
    "def remove_digits(text):\n",
    "    text_no_digits = ''.join(char for char in text if not char.isdigit())\n",
    "    return text_no_digits\n",
    "\n",
    "def remove_one_letter(text):\n",
    "    filtered_words = re.sub(pattern, '', text)\n",
    "    return filtered_words\n",
    "\n",
    "    \n",
    "df_train['cleaned_story']= df_train['story'].apply(lambda x:remove_punctuation(x))\n",
    "\n",
    "df_train['cleaned_story']= df_train['cleaned_story'].apply(lambda x:remove_digits(x))\n",
    "\n",
    "df_train['cleaned_story']= df_train['cleaned_story'].apply(lambda x:remove_one_letter(x))\n",
    "\n",
    "\n",
    "\n",
    "vectorizer = CountVectorizer(ngram_range = (1,2) ,max_features=10000, max_df = 0.07)\n",
    "X_vec = vectorizer.fit_transform(df_train['cleaned_story'])\n"
   ]
  },
  {
   "cell_type": "markdown",
   "metadata": {},
   "source": [
    "### Code Explanation\n",
    "\n",
    "<strong>Decision Tree Classifier Evaluation:</strong>\n",
    "\n",
    "The previously trained Decision Tree classifier (DT_clf) is evaluated using the validation data (X_validation).\n",
    "F1 scores are calculated for both the 'male' and 'female' classes, and the average F1 score is computed.\n",
    "The F1 scores and average F1 score are printed for the Decision Tree classifier.\n",
    "\n",
    "<strong>Naive Bayes Classifier Evaluation:</strong>\n",
    "\n",
    "An instance of the MultinomialNB classifier (nb_clf) is created and trained on the training data (X_train and y_train).\n",
    "Predictions are made on the validation data using the trained Naive Bayes classifier (nb_clf).\n",
    "F1 scores are calculated for both the 'male' and 'female' classes, and the average F1 score is computed for the Naive Bayes classifier.\n",
    "The F1 scores and average F1 score are printed for the Naive Bayes classifier.\n",
    "\n",
    "<strong>Decision Tree Cross-Validation:</strong>\n",
    "\n",
    "Cross-validation is performed using the Desicion Tree classifier (DT_clf) with the mapped target variable (y_mapped) and the training data (X_train).\n",
    "F1 scores are calculated for each fold of cross-validation, and the mean F1 score is computed.\n",
    "\n",
    "<strong>Naive Bayes Cross-Validation:</strong>\n",
    "\n",
    "Cross-validation is performed using the Naive Bayes classifier (nb_clf) with the mapped target variable (y_mapped) and the training data (X_train).\n",
    "F1 scores are calculated for each fold of cross-validation, and the mean F1 score is computed.\n",
    "\n",
    "This extended code provides a comprehensive evaluation of both the Decision Tree classifier and the Naive Bayes classifier. It calculates and prints F1 scores for individual classes and average F1 scores for both classifiers. Cross-validation is used to estimate the average F1 score of the Decision Tree and Naive Bayes classifier. These steps help in assessing the performance of the models in gender classification tasks."
   ]
  },
  {
   "cell_type": "code",
   "execution_count": 10,
   "metadata": {},
   "outputs": [],
   "source": [
    "train_set = pd.DataFrame(X_vec.toarray(), columns=vectorizer.get_feature_names_out())\n",
    "y = df_train['gender']"
   ]
  },
  {
   "cell_type": "code",
   "execution_count": 11,
   "metadata": {},
   "outputs": [],
   "source": [
    "X_train, X_validation, y_train, y_validation = train_test_split(train_set, y, test_size=0.2, random_state=42)"
   ]
  },
  {
   "cell_type": "code",
   "execution_count": 12,
   "metadata": {},
   "outputs": [
    {
     "data": {
      "text/plain": [
       "DecisionTreeClassifier(random_state=42)"
      ]
     },
     "execution_count": 12,
     "metadata": {},
     "output_type": "execute_result"
    }
   ],
   "source": [
    "DT_clf = DecisionTreeClassifier(random_state=42)\n",
    "DT_clf.fit(X_train, y_train)"
   ]
  },
  {
   "cell_type": "code",
   "execution_count": 13,
   "metadata": {},
   "outputs": [],
   "source": [
    "y_validation_pred = DT_clf.predict(X_validation)"
   ]
  },
  {
   "cell_type": "code",
   "execution_count": 14,
   "metadata": {},
   "outputs": [
    {
     "name": "stdout",
     "output_type": "stream",
     "text": [
      "F1_male-Score: 0.832618025751073\n",
      "F1_female-Score: 0.43478260869565216\n",
      "F1_avg-Score: 0.6337003172233626\n"
     ]
    }
   ],
   "source": [
    "f1_male = f1_score(y_validation, y_validation_pred, pos_label='m')\n",
    "f1_female = f1_score(y_validation, y_validation_pred, pos_label='f')\n",
    "f1_avg = (f1_male + f1_female)/2\n",
    "print(\"F1_male-Score:\", f1_male)\n",
    "print(\"F1_female-Score:\", f1_female)\n",
    "print(\"F1_avg-Score:\", f1_avg)"
   ]
  },
  {
   "cell_type": "code",
   "execution_count": 15,
   "metadata": {},
   "outputs": [],
   "source": [
    "y_mapped = y_train.map({\"f\": 0, \"m\": 1})"
   ]
  },
  {
   "cell_type": "code",
   "execution_count": 16,
   "metadata": {},
   "outputs": [],
   "source": [
    "f1_scores = cross_val_score(DT_clf, X_train, y_mapped, cv=5, scoring='f1')"
   ]
  },
  {
   "cell_type": "code",
   "execution_count": 17,
   "metadata": {},
   "outputs": [
    {
     "data": {
      "text/plain": [
       "0.8082109845903351"
      ]
     },
     "execution_count": 17,
     "metadata": {},
     "output_type": "execute_result"
    }
   ],
   "source": [
    "f1_scores.mean()"
   ]
  },
  {
   "cell_type": "code",
   "execution_count": 18,
   "metadata": {},
   "outputs": [
    {
     "data": {
      "text/plain": [
       "MultinomialNB()"
      ]
     },
     "execution_count": 18,
     "metadata": {},
     "output_type": "execute_result"
    }
   ],
   "source": [
    "nb_clf = MultinomialNB()\n",
    "nb_clf.fit(X_train, y_train)"
   ]
  },
  {
   "cell_type": "code",
   "execution_count": 19,
   "metadata": {},
   "outputs": [],
   "source": [
    "y_nb_validation_pred = nb_clf.predict(X_validation)"
   ]
  },
  {
   "cell_type": "code",
   "execution_count": 20,
   "metadata": {},
   "outputs": [
    {
     "name": "stdout",
     "output_type": "stream",
     "text": [
      "F1_male-Score: 0.8793103448275862\n",
      "F1_female-Score: 0.6000000000000001\n",
      "F1_avg-Score: 0.7396551724137932\n"
     ]
    }
   ],
   "source": [
    "nb_f1_male = f1_score(y_validation, y_nb_validation_pred, pos_label='m')\n",
    "nb_f1_female = f1_score(y_validation, y_nb_validation_pred, pos_label='f')\n",
    "nb_f1_avg = (nb_f1_male + nb_f1_female)/2\n",
    "print(\"F1_male-Score:\", nb_f1_male)\n",
    "print(\"F1_female-Score:\", nb_f1_female)\n",
    "print(\"F1_avg-Score:\", nb_f1_avg)"
   ]
  },
  {
   "cell_type": "code",
   "execution_count": 21,
   "metadata": {},
   "outputs": [],
   "source": [
    "nb_f1_scores = cross_val_score(nb_clf, X_train, y_mapped, cv=5, scoring='f1')"
   ]
  },
  {
   "cell_type": "code",
   "execution_count": 22,
   "metadata": {},
   "outputs": [
    {
     "data": {
      "text/plain": [
       "0.87090158943553"
      ]
     },
     "execution_count": 22,
     "metadata": {},
     "output_type": "execute_result"
    }
   ],
   "source": [
    "nb_f1_scores.mean()"
   ]
  },
  {
   "cell_type": "markdown",
   "metadata": {},
   "source": [
    "### Code Explanation\n",
    "\n",
    "In the provided code, the same text preprocessing steps are applied to the test dataset df_test as were done for the training dataset. The cleaned and tokenized test data is transformed into a matrix representation named Test_vec using the previously defined vectorizer. A pandas DataFrame test_set is created from this matrix, containing the extracted features from the test stories.\n",
    "\n",
    "The trained Naive Bayes classifier nb_clf is then used to predict the genders of the test set based on the extracted features. The predictions are stored in a pandas Series named y_test_pred_ser. A sample of the first five and last five predictions is printed to the console for inspection.\n",
    "\n",
    "It's worth mentioning that the Naive Bayes model was chosen for making predictions on the test set due to its better performance compared to the Decision Tree model. After evaluating both classifiers on the validation data, the Naive Bayes model demonstrated more favorable results, leading to the decision to use it for the final predictions on the test set.\n",
    "\n",
    "By applying the trained Naive Bayes model to the test data, we can predict the genders of the test stories and potentially gain insights into its generalization performance on unseen data."
   ]
  },
  {
   "cell_type": "code",
   "execution_count": 25,
   "metadata": {},
   "outputs": [],
   "source": [
    "df_test['cleaned_story']= df_test['story'].apply(lambda x:remove_punctuation(x))\n",
    "\n",
    "df_test['cleaned_story']= df_test['cleaned_story'].apply(lambda x:remove_digits(x))\n",
    "\n",
    "df_test['cleaned_story']= df_test['cleaned_story'].apply(lambda x:remove_one_letter(x))\n",
    "\n",
    "Test_vec = vectorizer.fit_transform(df_test['cleaned_story'])"
   ]
  },
  {
   "cell_type": "code",
   "execution_count": 26,
   "metadata": {},
   "outputs": [],
   "source": [
    "test_set = pd.DataFrame(Test_vec.toarray(), columns=vectorizer.get_feature_names_out())"
   ]
  },
  {
   "cell_type": "code",
   "execution_count": 27,
   "metadata": {},
   "outputs": [],
   "source": [
    "y_test_pred = nb_clf.predict(test_set)\n",
    "y_test_pred_ser = pd.Series(y_test_pred)"
   ]
  },
  {
   "cell_type": "code",
   "execution_count": 28,
   "metadata": {},
   "outputs": [
    {
     "name": "stdout",
     "output_type": "stream",
     "text": [
      "First 5 test predictions:\n",
      "0    m\n",
      "1    m\n",
      "2    f\n",
      "3    f\n",
      "4    f\n",
      "dtype: object\n",
      "Last 5 test predictions:\n",
      "318    m\n",
      "319    f\n",
      "320    m\n",
      "321    m\n",
      "322    f\n",
      "dtype: object\n"
     ]
    }
   ],
   "source": [
    "print(\"First 5 test predictions:\")\n",
    "print(y_test_pred_ser.head())\n",
    "print(\"Last 5 test predictions:\")\n",
    "print(y_test_pred_ser.tail())"
   ]
  },
  {
   "cell_type": "code",
   "execution_count": 29,
   "metadata": {},
   "outputs": [],
   "source": [
    "df_predicted = pd.DataFrame({'test_example_id':df_test['test_example_id'], 'predicted_category':y_test_pred, 'story':df_test['story']})"
   ]
  },
  {
   "cell_type": "markdown",
   "metadata": {},
   "source": [
    "### Save output to csv (optional)\n",
    "After you're done save your output to the 'classification_results.csv' csv file.<br/>\n",
    "We assume that the dataframe with your results contain the following columns:\n",
    "* column 1 (left column): 'test_example_id'  - the same id associated to each of the test stories to be predicted.\n",
    "* column 2 (right column): 'predicted_category' - the predicted gender value for each of the associated story. \n",
    "\n",
    "Assuming your predicted values are in the `df_predicted` dataframe, you should save you're results as following:"
   ]
  },
  {
   "cell_type": "code",
   "execution_count": 30,
   "metadata": {},
   "outputs": [],
   "source": [
    "df_predicted.to_csv('classification_results.csv',index=False)"
   ]
  }
 ],
 "metadata": {
  "celltoolbar": "Create Assignment",
  "kernelspec": {
   "display_name": "Python 3 (ipykernel)",
   "language": "python",
   "name": "python3"
  },
  "language_info": {
   "codemirror_mode": {
    "name": "ipython",
    "version": 3
   },
   "file_extension": ".py",
   "mimetype": "text/x-python",
   "name": "python",
   "nbconvert_exporter": "python",
   "pygments_lexer": "ipython3",
   "version": "3.9.13"
  }
 },
 "nbformat": 4,
 "nbformat_minor": 4
}
